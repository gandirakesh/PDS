{
  "nbformat": 4,
  "nbformat_minor": 0,
  "metadata": {
    "colab": {
      "provenance": [],
      "authorship_tag": "ABX9TyPKuZ79lD7gcEkG/M5CuqZh",
      "include_colab_link": true
    },
    "kernelspec": {
      "name": "python3",
      "display_name": "Python 3"
    },
    "language_info": {
      "name": "python"
    }
  },
  "cells": [
    {
      "cell_type": "markdown",
      "metadata": {
        "id": "view-in-github",
        "colab_type": "text"
      },
      "source": [
        "<a href=\"https://colab.research.google.com/github/gandirakesh/PDS-2303A51721_B11/blob/main/lab_4_21_aug.ipynb\" target=\"_parent\"><img src=\"https://colab.research.google.com/assets/colab-badge.svg\" alt=\"Open In Colab\"/></a>"
      ]
    },
    {
      "cell_type": "code",
      "execution_count": 7,
      "metadata": {
        "colab": {
          "base_uri": "https://localhost:8080/"
        },
        "id": "tsRKMbpC0diY",
        "outputId": "16a9a1c2-29f0-4bb4-d0d3-f82f357d1e6e"
      },
      "outputs": [
        {
          "output_type": "stream",
          "name": "stdout",
          "text": [
            "Original DataFrame:\n",
            "   Student_ID     Name  Math  Science  English\n",
            "0           1   rakesh  80.0     75.0     90.0\n",
            "1           2   sanjay  65.0      NaN     85.0\n",
            "2           3   dileep  72.0     68.0     70.0\n",
            "3           4     uday   NaN     90.0     95.0\n",
            "4           5   roshan  88.0     92.0     79.0\n",
            "5           6      ram   NaN     85.0     82.0\n",
            "6           7  krishna  95.0     94.0     92.0\n",
            "7           8    radha  70.0     60.0     65.0\n",
            "8           9     sita  78.0     80.0      NaN\n",
            "9          10     raju  82.0     76.0     88.0\n",
            "\n",
            "DataFrame after filling missing values:\n",
            "   Student_ID     Name   Math  Science    English\n",
            "0           1   rakesh  80.00     75.0  90.000000\n",
            "1           2   sanjay  65.00     80.0  85.000000\n",
            "2           3   dileep  72.00     68.0  70.000000\n",
            "3           4     uday  78.75     90.0  95.000000\n",
            "4           5   roshan  88.00     92.0  79.000000\n",
            "5           6      ram  78.75     85.0  82.000000\n",
            "6           7  krishna  95.00     94.0  92.000000\n",
            "7           8    radha  70.00     60.0  65.000000\n",
            "8           9     sita  78.00     80.0  82.888889\n",
            "9          10     raju  82.00     76.0  88.000000\n",
            "\n",
            "High Achievers (scores > 75 in all subjects):\n",
            "   Student_ID     Name   Math  Science    English\n",
            "3           4     uday  78.75     90.0  95.000000\n",
            "4           5   roshan  88.00     92.0  79.000000\n",
            "5           6      ram  78.75     85.0  82.000000\n",
            "6           7  krishna  95.00     94.0  92.000000\n",
            "8           9     sita  78.00     80.0  82.888889\n",
            "9          10     raju  82.00     76.0  88.000000\n"
          ]
        }
      ],
      "source": [
        "import pandas as pd\n",
        "df = pd.read_csv('student_scores.csv')\n",
        "print(\"Original DataFrame:\")\n",
        "print(df)\n",
        "numeric_cols = df.select_dtypes(include=['number'])\n",
        "df.fillna(numeric_cols.mean(), inplace=True)\n",
        "print(\"\\nDataFrame after filling missing values:\")\n",
        "print(df)\n",
        "high_achievers = df[(df['Math'] > 75) & (df['Science'] > 75) & (df['English'] > 75)]\n",
        "print(\"\\nHigh Achievers (scores > 75 in all subjects):\")\n",
        "print(high_achievers)"
      ]
    }
  ]
}