{
  "nbformat": 4,
  "nbformat_minor": 0,
  "metadata": {
    "colab": {
      "provenance": [],
      "authorship_tag": "ABX9TyOf3d4CI7W2nm74hPZFS0wz",
      "include_colab_link": true
    },
    "kernelspec": {
      "name": "python3",
      "display_name": "Python 3"
    },
    "language_info": {
      "name": "python"
    }
  },
  "cells": [
    {
      "cell_type": "markdown",
      "metadata": {
        "id": "view-in-github",
        "colab_type": "text"
      },
      "source": [
        "<a href=\"https://colab.research.google.com/github/gandirakesh/PDS/blob/main/Lab_1.ipynb\" target=\"_parent\"><img src=\"https://colab.research.google.com/assets/colab-badge.svg\" alt=\"Open In Colab\"/></a>"
      ]
    },
    {
      "cell_type": "code",
      "execution_count": 2,
      "metadata": {
        "id": "5fCP73V700Rb"
      },
      "outputs": [],
      "source": [
        "def validate_input(n):\n",
        "    if not isinstance(n, int) or n < 0:\n",
        "        raise ValueError(\"Input must be a non-negative integer.\")"
      ]
    },
    {
      "cell_type": "code",
      "source": [
        "def factorial_recursive(n):\n",
        "    validate_input(n)\n",
        "    print(f\"Entering factorial_recursive({n})\")\n",
        "    if n==0 or n==1:\n",
        "        print(f\"Base case reached: factorial({n}) = 1\")\n",
        "        return 1\n",
        "    result = n * factorial_recursive(n - 1)\n",
        "    print(f\"Returning: {n} * factorial({n-1}) = {result}\")\n",
        "    return result\n",
        "\n"
      ],
      "metadata": {
        "id": "NiJSnQCq16Hj"
      },
      "execution_count": 4,
      "outputs": []
    },
    {
      "cell_type": "code",
      "source": [
        "def factorial_tail_recursive(n, acc=1):\n",
        "    validate_input(n)\n",
        "    print(f\"Tail Recursion Call: factorial_tail_recursive({n}, {acc})\")\n",
        "    if n==0 or n==1:\n",
        "        return acc\n",
        "    return factorial_tail_recursive(n - 1, acc * n)"
      ],
      "metadata": {
        "id": "GlWLozd_2KjD"
      },
      "execution_count": 5,
      "outputs": []
    },
    {
      "cell_type": "code",
      "source": [
        "def factorial_iterative(n):\n",
        "    validate_input(n)\n",
        "    result = 1\n",
        "    for i in range(2, n + 1):\n",
        "        result *= i\n",
        "        print(f\"Iterating i={i}, result={result}\")\n",
        "    return result\n",
        "if __name__ == \"__main__\":\n",
        "    test_values = [0, 1, 5, 7]\n",
        "    for val in test_values:\n",
        "        print(f\"\\n===== FACTORIAL CALCULATION FOR {val} =====\")\n",
        "        print(f\"Recursive Result: {factorial_recursive(val)}\")\n",
        "        print(f\"Tail Recursive Result: {factorial_tail_recursive(val)}\")\n",
        "        print(f\"Iterative Result: {factorial_iterative(val)}\")"
      ],
      "metadata": {
        "colab": {
          "base_uri": "https://localhost:8080/"
        },
        "id": "VAdUMw-e2XGZ",
        "outputId": "6c3c49f4-bbad-4907-dd22-162e822603c8"
      },
      "execution_count": 8,
      "outputs": [
        {
          "output_type": "stream",
          "name": "stdout",
          "text": [
            "\n",
            "===== FACTORIAL CALCULATION FOR 0 =====\n",
            "Entering factorial_recursive(0)\n",
            "Base case reached: factorial(0) = 1\n",
            "Recursive Result: 1\n",
            "Tail Recursion Call: factorial_tail_recursive(0, 1)\n",
            "Tail Recursive Result: 1\n",
            "Iterative Result: 1\n",
            "\n",
            "===== FACTORIAL CALCULATION FOR 1 =====\n",
            "Entering factorial_recursive(1)\n",
            "Base case reached: factorial(1) = 1\n",
            "Recursive Result: 1\n",
            "Tail Recursion Call: factorial_tail_recursive(1, 1)\n",
            "Tail Recursive Result: 1\n",
            "Iterative Result: 1\n",
            "\n",
            "===== FACTORIAL CALCULATION FOR 5 =====\n",
            "Entering factorial_recursive(5)\n",
            "Entering factorial_recursive(4)\n",
            "Entering factorial_recursive(3)\n",
            "Entering factorial_recursive(2)\n",
            "Entering factorial_recursive(1)\n",
            "Base case reached: factorial(1) = 1\n",
            "Returning: 2 * factorial(1) = 2\n",
            "Returning: 3 * factorial(2) = 6\n",
            "Returning: 4 * factorial(3) = 24\n",
            "Returning: 5 * factorial(4) = 120\n",
            "Recursive Result: 120\n",
            "Tail Recursion Call: factorial_tail_recursive(5, 1)\n",
            "Tail Recursion Call: factorial_tail_recursive(4, 5)\n",
            "Tail Recursion Call: factorial_tail_recursive(3, 20)\n",
            "Tail Recursion Call: factorial_tail_recursive(2, 60)\n",
            "Tail Recursion Call: factorial_tail_recursive(1, 120)\n",
            "Tail Recursive Result: 120\n",
            "Iterating i=2, result=2\n",
            "Iterating i=3, result=6\n",
            "Iterating i=4, result=24\n",
            "Iterating i=5, result=120\n",
            "Iterative Result: 120\n",
            "\n",
            "===== FACTORIAL CALCULATION FOR 7 =====\n",
            "Entering factorial_recursive(7)\n",
            "Entering factorial_recursive(6)\n",
            "Entering factorial_recursive(5)\n",
            "Entering factorial_recursive(4)\n",
            "Entering factorial_recursive(3)\n",
            "Entering factorial_recursive(2)\n",
            "Entering factorial_recursive(1)\n",
            "Base case reached: factorial(1) = 1\n",
            "Returning: 2 * factorial(1) = 2\n",
            "Returning: 3 * factorial(2) = 6\n",
            "Returning: 4 * factorial(3) = 24\n",
            "Returning: 5 * factorial(4) = 120\n",
            "Returning: 6 * factorial(5) = 720\n",
            "Returning: 7 * factorial(6) = 5040\n",
            "Recursive Result: 5040\n",
            "Tail Recursion Call: factorial_tail_recursive(7, 1)\n",
            "Tail Recursion Call: factorial_tail_recursive(6, 7)\n",
            "Tail Recursion Call: factorial_tail_recursive(5, 42)\n",
            "Tail Recursion Call: factorial_tail_recursive(4, 210)\n",
            "Tail Recursion Call: factorial_tail_recursive(3, 840)\n",
            "Tail Recursion Call: factorial_tail_recursive(2, 2520)\n",
            "Tail Recursion Call: factorial_tail_recursive(1, 5040)\n",
            "Tail Recursive Result: 5040\n",
            "Iterating i=2, result=2\n",
            "Iterating i=3, result=6\n",
            "Iterating i=4, result=24\n",
            "Iterating i=5, result=120\n",
            "Iterating i=6, result=720\n",
            "Iterating i=7, result=5040\n",
            "Iterative Result: 5040\n"
          ]
        }
      ]
    },
    {
      "cell_type": "code",
      "source": [
        "def factorial(n):\n",
        "    if n == 0 or n == 1:\n",
        "        print(f\"factorial({n}) = 1\")\n",
        "        return 1\n",
        "    else:\n",
        "        result = n * factorial(n - 1)\n",
        "        print(f\"factorial({n}) = {result}\")\n",
        "        return result\n",
        "\n",
        "def compute_nCr(n, r):\n",
        "    if n < r or r < 0:\n",
        "        raise ValueError(\"Invalid input: ensure that n ≥ r ≥ 0\")\n",
        "    print(f\"\\nCalculating nCr for n = {n}, r = {r}\")\n",
        "    fact_n = factorial(n)\n",
        "    fact_r = factorial(r)\n",
        "    fact_n_r = factorial(n - r)\n",
        "    nCr = fact_n // (fact_r * fact_n_r)\n",
        "    print(f\"\\nnCr = {fact_n} / ({fact_r} * {fact_n_r}) = {nCr}\")\n",
        "    return nCr\n",
        "\n",
        "# Optional comparison with math.comb\n",
        "import math\n",
        "def compare_with_builtin(n, r):\n",
        "    custom_result = compute_nCr(n, r)\n",
        "    builtin_result = math.comb(n, r)\n",
        "    print(f\"\\nComparison with math.comb(): {builtin_result}\")\n",
        "    print(f\"Match: {custom_result == builtin_result}\")\n",
        "\n",
        "# Example runs\n",
        "compare_with_builtin(5, 2)\n",
        "compare_with_builtin(6, 0)\n",
        "compare_with_builtin(7, 7)\n",
        "compare_with_builtin(10, 3)"
      ],
      "metadata": {
        "colab": {
          "base_uri": "https://localhost:8080/"
        },
        "id": "VR7XR9hO3ils",
        "outputId": "5531b9ff-1589-4cc0-d365-8e4387c99fab"
      },
      "execution_count": 9,
      "outputs": [
        {
          "output_type": "stream",
          "name": "stdout",
          "text": [
            "\n",
            "Calculating nCr for n = 5, r = 2\n",
            "factorial(1) = 1\n",
            "factorial(2) = 2\n",
            "factorial(3) = 6\n",
            "factorial(4) = 24\n",
            "factorial(5) = 120\n",
            "factorial(1) = 1\n",
            "factorial(2) = 2\n",
            "factorial(1) = 1\n",
            "factorial(2) = 2\n",
            "factorial(3) = 6\n",
            "\n",
            "nCr = 120 / (2 * 6) = 10\n",
            "\n",
            "Comparison with math.comb(): 10\n",
            "Match: True\n",
            "\n",
            "Calculating nCr for n = 6, r = 0\n",
            "factorial(1) = 1\n",
            "factorial(2) = 2\n",
            "factorial(3) = 6\n",
            "factorial(4) = 24\n",
            "factorial(5) = 120\n",
            "factorial(6) = 720\n",
            "factorial(0) = 1\n",
            "factorial(1) = 1\n",
            "factorial(2) = 2\n",
            "factorial(3) = 6\n",
            "factorial(4) = 24\n",
            "factorial(5) = 120\n",
            "factorial(6) = 720\n",
            "\n",
            "nCr = 720 / (1 * 720) = 1\n",
            "\n",
            "Comparison with math.comb(): 1\n",
            "Match: True\n",
            "\n",
            "Calculating nCr for n = 7, r = 7\n",
            "factorial(1) = 1\n",
            "factorial(2) = 2\n",
            "factorial(3) = 6\n",
            "factorial(4) = 24\n",
            "factorial(5) = 120\n",
            "factorial(6) = 720\n",
            "factorial(7) = 5040\n",
            "factorial(1) = 1\n",
            "factorial(2) = 2\n",
            "factorial(3) = 6\n",
            "factorial(4) = 24\n",
            "factorial(5) = 120\n",
            "factorial(6) = 720\n",
            "factorial(7) = 5040\n",
            "factorial(0) = 1\n",
            "\n",
            "nCr = 5040 / (5040 * 1) = 1\n",
            "\n",
            "Comparison with math.comb(): 1\n",
            "Match: True\n",
            "\n",
            "Calculating nCr for n = 10, r = 3\n",
            "factorial(1) = 1\n",
            "factorial(2) = 2\n",
            "factorial(3) = 6\n",
            "factorial(4) = 24\n",
            "factorial(5) = 120\n",
            "factorial(6) = 720\n",
            "factorial(7) = 5040\n",
            "factorial(8) = 40320\n",
            "factorial(9) = 362880\n",
            "factorial(10) = 3628800\n",
            "factorial(1) = 1\n",
            "factorial(2) = 2\n",
            "factorial(3) = 6\n",
            "factorial(1) = 1\n",
            "factorial(2) = 2\n",
            "factorial(3) = 6\n",
            "factorial(4) = 24\n",
            "factorial(5) = 120\n",
            "factorial(6) = 720\n",
            "factorial(7) = 5040\n",
            "\n",
            "nCr = 3628800 / (6 * 5040) = 120\n",
            "\n",
            "Comparison with math.comb(): 120\n",
            "Match: True\n"
          ]
        }
      ]
    }
  ]
}